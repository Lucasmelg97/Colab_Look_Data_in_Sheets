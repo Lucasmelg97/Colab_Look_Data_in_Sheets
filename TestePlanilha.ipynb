{
  "nbformat": 4,
  "nbformat_minor": 0,
  "metadata": {
    "colab": {
      "provenance": []
    },
    "kernelspec": {
      "name": "python3",
      "display_name": "Python 3"
    },
    "language_info": {
      "name": "python"
    }
  },
  "cells": [
    {
      "cell_type": "markdown",
      "source": [
        "Instalando gspread"
      ],
      "metadata": {
        "id": "UEEHvNody0aT"
      }
    },
    {
      "cell_type": "code",
      "execution_count": 11,
      "metadata": {
        "colab": {
          "base_uri": "https://localhost:8080/"
        },
        "id": "jsJrMibRxkvQ",
        "outputId": "d8b65c26-2fea-482f-c9db-d006b2008e2b"
      },
      "outputs": [
        {
          "output_type": "stream",
          "name": "stdout",
          "text": [
            "Requirement already satisfied: gspread in /usr/local/lib/python3.12/dist-packages (6.2.1)\n",
            "Requirement already satisfied: pandas in /usr/local/lib/python3.12/dist-packages (2.3.2)\n",
            "Requirement already satisfied: google-auth>=1.12.0 in /usr/local/lib/python3.12/dist-packages (from gspread) (2.38.0)\n",
            "Requirement already satisfied: google-auth-oauthlib>=0.4.1 in /usr/local/lib/python3.12/dist-packages (from gspread) (1.2.2)\n",
            "Requirement already satisfied: numpy>=1.26.0 in /usr/local/lib/python3.12/dist-packages (from pandas) (2.0.2)\n",
            "Requirement already satisfied: python-dateutil>=2.8.2 in /usr/local/lib/python3.12/dist-packages (from pandas) (2.9.0.post0)\n",
            "Requirement already satisfied: pytz>=2020.1 in /usr/local/lib/python3.12/dist-packages (from pandas) (2025.2)\n",
            "Requirement already satisfied: tzdata>=2022.7 in /usr/local/lib/python3.12/dist-packages (from pandas) (2025.2)\n",
            "Requirement already satisfied: cachetools<6.0,>=2.0.0 in /usr/local/lib/python3.12/dist-packages (from google-auth>=1.12.0->gspread) (5.5.2)\n",
            "Requirement already satisfied: pyasn1-modules>=0.2.1 in /usr/local/lib/python3.12/dist-packages (from google-auth>=1.12.0->gspread) (0.4.2)\n",
            "Requirement already satisfied: rsa<5,>=3.1.4 in /usr/local/lib/python3.12/dist-packages (from google-auth>=1.12.0->gspread) (4.9.1)\n",
            "Requirement already satisfied: requests-oauthlib>=0.7.0 in /usr/local/lib/python3.12/dist-packages (from google-auth-oauthlib>=0.4.1->gspread) (2.0.0)\n",
            "Requirement already satisfied: six>=1.5 in /usr/local/lib/python3.12/dist-packages (from python-dateutil>=2.8.2->pandas) (1.17.0)\n",
            "Requirement already satisfied: pyasn1<0.7.0,>=0.6.1 in /usr/local/lib/python3.12/dist-packages (from pyasn1-modules>=0.2.1->google-auth>=1.12.0->gspread) (0.6.1)\n",
            "Requirement already satisfied: oauthlib>=3.0.0 in /usr/local/lib/python3.12/dist-packages (from requests-oauthlib>=0.7.0->google-auth-oauthlib>=0.4.1->gspread) (3.3.1)\n",
            "Requirement already satisfied: requests>=2.0.0 in /usr/local/lib/python3.12/dist-packages (from requests-oauthlib>=0.7.0->google-auth-oauthlib>=0.4.1->gspread) (2.32.4)\n",
            "Requirement already satisfied: charset_normalizer<4,>=2 in /usr/local/lib/python3.12/dist-packages (from requests>=2.0.0->requests-oauthlib>=0.7.0->google-auth-oauthlib>=0.4.1->gspread) (3.4.3)\n",
            "Requirement already satisfied: idna<4,>=2.5 in /usr/local/lib/python3.12/dist-packages (from requests>=2.0.0->requests-oauthlib>=0.7.0->google-auth-oauthlib>=0.4.1->gspread) (3.10)\n",
            "Requirement already satisfied: urllib3<3,>=1.21.1 in /usr/local/lib/python3.12/dist-packages (from requests>=2.0.0->requests-oauthlib>=0.7.0->google-auth-oauthlib>=0.4.1->gspread) (2.5.0)\n",
            "Requirement already satisfied: certifi>=2017.4.17 in /usr/local/lib/python3.12/dist-packages (from requests>=2.0.0->requests-oauthlib>=0.7.0->google-auth-oauthlib>=0.4.1->gspread) (2025.8.3)\n"
          ]
        }
      ],
      "source": [
        "!pip install --upgrade gspread pandas\n"
      ]
    },
    {
      "cell_type": "markdown",
      "source": [
        "Importando bibliotecas"
      ],
      "metadata": {
        "id": "daPQwl-hzIA3"
      }
    },
    {
      "cell_type": "code",
      "source": [
        "from google.colab import auth\n",
        "import gspread\n",
        "import pandas as pd\n",
        "from oauth2client.client import GoogleCredentials\n",
        "from google.auth import default"
      ],
      "metadata": {
        "id": "CkEMedpYzC2S"
      },
      "execution_count": 12,
      "outputs": []
    },
    {
      "cell_type": "markdown",
      "source": [
        "Realizando autenticação"
      ],
      "metadata": {
        "id": "n3gXwD3QzsLZ"
      }
    },
    {
      "cell_type": "code",
      "source": [
        "# 1. Autentica o Google Colab para acessar o Drive/Sheets\n",
        "auth.authenticate_user()\n",
        "\n",
        "# 2. Obtém as credenciais padrão do usuário\n",
        "creds, _ = default()\n",
        "\n",
        "# 3. Autoriza o gspread usando as credenciais obtidas\n",
        "gc = gspread.authorize(creds)\n",
        "\n",
        "print(\"Autenticação com gspread no Colab realizada com sucesso!\")\n"
      ],
      "metadata": {
        "colab": {
          "base_uri": "https://localhost:8080/"
        },
        "id": "f2CqVrB2zrD3",
        "outputId": "ed0d9641-077c-4ae8-e545-86705082b655"
      },
      "execution_count": 13,
      "outputs": [
        {
          "output_type": "stream",
          "name": "stdout",
          "text": [
            "Autenticação com gspread no Colab realizada com sucesso!\n"
          ]
        }
      ]
    },
    {
      "cell_type": "markdown",
      "source": [
        "Criando planilha"
      ],
      "metadata": {
        "id": "4cSR_t6t15q3"
      }
    },
    {
      "cell_type": "code",
      "source": [
        "gc.create('Planilha01')"
      ],
      "metadata": {
        "colab": {
          "base_uri": "https://localhost:8080/"
        },
        "id": "B6jNUv6dzXcG",
        "outputId": "baeb4911-3768-4671-8af8-d0b51a158335"
      },
      "execution_count": 14,
      "outputs": [
        {
          "output_type": "execute_result",
          "data": {
            "text/plain": [
              "<Spreadsheet 'Planilha01' id:1EHYN7TyLWhD8gzPlIDnQLUz4T4-JA6WMMn-aO4jkuqg>"
            ]
          },
          "metadata": {},
          "execution_count": 14
        }
      ]
    },
    {
      "cell_type": "markdown",
      "source": [
        "Abrindo Planilha"
      ],
      "metadata": {
        "id": "wsGgD56w2XTp"
      }
    },
    {
      "cell_type": "code",
      "source": [],
      "metadata": {
        "id": "HQG5qqAo2zhF"
      },
      "execution_count": null,
      "outputs": []
    },
    {
      "cell_type": "code",
      "source": [
        "sheetexample = gc.open('Sales')"
      ],
      "metadata": {
        "id": "GXfgBcdUzB96"
      },
      "execution_count": 15,
      "outputs": []
    },
    {
      "cell_type": "markdown",
      "source": [
        "Adicionando página em planilha"
      ],
      "metadata": {
        "id": "MY3iZGag215f"
      }
    },
    {
      "cell_type": "code",
      "source": [
        "sheetexample.add_worksheet('newpage2',10,5)"
      ],
      "metadata": {
        "colab": {
          "base_uri": "https://localhost:8080/"
        },
        "id": "nLu532_228Xz",
        "outputId": "473cfb3b-4ec4-452a-e720-23596cdc55b8"
      },
      "execution_count": 6,
      "outputs": [
        {
          "output_type": "execute_result",
          "data": {
            "text/plain": [
              "<Worksheet 'newpage2' id:11612354>"
            ]
          },
          "metadata": {},
          "execution_count": 6
        }
      ]
    },
    {
      "cell_type": "markdown",
      "source": [
        "Selecionando uma página"
      ],
      "metadata": {
        "id": "DezwdjCd4hcU"
      }
    },
    {
      "cell_type": "code",
      "source": [
        "markpage=sheetexample.get_worksheet(2)\n"
      ],
      "metadata": {
        "id": "ny2vsqwL4mHp"
      },
      "execution_count": 16,
      "outputs": []
    },
    {
      "cell_type": "markdown",
      "source": [
        "Apagando página"
      ],
      "metadata": {
        "id": "Mh9OEbfx5OpE"
      }
    },
    {
      "cell_type": "code",
      "source": [
        "#sheetexample.del_worksheet(markpage)"
      ],
      "metadata": {
        "id": "a7PMpO6i5Rdi"
      },
      "execution_count": null,
      "outputs": []
    },
    {
      "cell_type": "markdown",
      "source": [
        "**Alterando valores das células**"
      ],
      "metadata": {
        "id": "pNSN4azn5ljU"
      }
    },
    {
      "cell_type": "markdown",
      "source": [
        "1º passo : seleção de página"
      ],
      "metadata": {
        "id": "dVOZ7qsb6Tnv"
      }
    },
    {
      "cell_type": "code",
      "source": [
        "selectsheet=sheetexample.get_worksheet(1)"
      ],
      "metadata": {
        "id": "61Nxv1_n6NCv"
      },
      "execution_count": 17,
      "outputs": []
    },
    {
      "cell_type": "markdown",
      "source": [
        "Alterando pelo código da célula \"update_acell()\""
      ],
      "metadata": {
        "id": "r0Y0QEol63EA"
      }
    },
    {
      "cell_type": "code",
      "source": [
        "selectsheet.update_acell('b9', 'Lucas Santiago')"
      ],
      "metadata": {
        "colab": {
          "base_uri": "https://localhost:8080/"
        },
        "id": "xxaYmgVE6TVQ",
        "outputId": "703cf019-3d25-4bc6-a285-387b4c4a02a5"
      },
      "execution_count": 18,
      "outputs": [
        {
          "output_type": "execute_result",
          "data": {
            "text/plain": [
              "{'spreadsheetId': '1o4Q0U7tJA-gkc02P0jtPk2i05Ht2qBwamjVpNb746Qw',\n",
              " 'updatedRange': 'Sales!B9',\n",
              " 'updatedRows': 1,\n",
              " 'updatedColumns': 1,\n",
              " 'updatedCells': 1}"
            ]
          },
          "metadata": {},
          "execution_count": 18
        }
      ]
    },
    {
      "cell_type": "markdown",
      "source": [
        "Atualizando pelo número de linha e coluna via \"update_cell\""
      ],
      "metadata": {
        "id": "5tYzjTk67yfv"
      }
    },
    {
      "cell_type": "code",
      "source": [
        "selectsheet.update_cell(10,2, 'Mario Jose')"
      ],
      "metadata": {
        "colab": {
          "base_uri": "https://localhost:8080/"
        },
        "id": "w3o6b5PO7-ri",
        "outputId": "17c22ed4-eba2-4d80-e847-99fa4c29ac95"
      },
      "execution_count": 19,
      "outputs": [
        {
          "output_type": "execute_result",
          "data": {
            "text/plain": [
              "{'spreadsheetId': '1o4Q0U7tJA-gkc02P0jtPk2i05Ht2qBwamjVpNb746Qw',\n",
              " 'updatedRange': 'Sales!B10',\n",
              " 'updatedRows': 1,\n",
              " 'updatedColumns': 1,\n",
              " 'updatedCells': 1}"
            ]
          },
          "metadata": {},
          "execution_count": 19
        }
      ]
    },
    {
      "cell_type": "markdown",
      "source": [
        "Listar celulas em um intervalo\n"
      ],
      "metadata": {
        "id": "J1AYYL6j8o9f"
      }
    },
    {
      "cell_type": "code",
      "source": [
        "list_cell=selectsheet.range('I9:I13')\n",
        "list_cell"
      ],
      "metadata": {
        "colab": {
          "base_uri": "https://localhost:8080/"
        },
        "id": "c75LfEgj81wZ",
        "outputId": "f73faad6-896c-4fcd-9427-2b6ddbf0a5d4"
      },
      "execution_count": 20,
      "outputs": [
        {
          "output_type": "execute_result",
          "data": {
            "text/plain": [
              "[<Cell R9C9 '2.00%'>,\n",
              " <Cell R10C9 '3.00%'>,\n",
              " <Cell R11C9 '4.00%'>,\n",
              " <Cell R12C9 '5.00%'>,\n",
              " <Cell R13C9 '6.00%'>]"
            ]
          },
          "metadata": {},
          "execution_count": 20
        }
      ]
    },
    {
      "cell_type": "code",
      "source": [
        "values = [0.02,0.03,0.04,0.05, 0.06]\n",
        "\n",
        "for i, valor in enumerate(values):\n",
        "  valor_formatado = f\"{int(valor * 100)}%\"\n",
        "  list_cell[i].value=valor_formatado\n",
        "\n",
        "list_cell\n",
        "\n"
      ],
      "metadata": {
        "colab": {
          "base_uri": "https://localhost:8080/"
        },
        "id": "uqebCwqv-Esj",
        "outputId": "74617bcf-8a5c-4e70-a1b8-075f81e63c85"
      },
      "execution_count": 21,
      "outputs": [
        {
          "output_type": "execute_result",
          "data": {
            "text/plain": [
              "[<Cell R9C9 '2%'>,\n",
              " <Cell R10C9 '3%'>,\n",
              " <Cell R11C9 '4%'>,\n",
              " <Cell R12C9 '5%'>,\n",
              " <Cell R13C9 '6%'>]"
            ]
          },
          "metadata": {},
          "execution_count": 21
        }
      ]
    },
    {
      "cell_type": "code",
      "source": [
        "selectsheet.update_cells(list_cell)"
      ],
      "metadata": {
        "colab": {
          "base_uri": "https://localhost:8080/"
        },
        "id": "4zJrorBB_mHb",
        "outputId": "5502d760-5f91-46e3-f2b3-9c7b9699f88a"
      },
      "execution_count": 22,
      "outputs": [
        {
          "output_type": "execute_result",
          "data": {
            "text/plain": [
              "{'spreadsheetId': '1o4Q0U7tJA-gkc02P0jtPk2i05Ht2qBwamjVpNb746Qw',\n",
              " 'updatedRange': 'Sales!I9:I13',\n",
              " 'updatedRows': 5,\n",
              " 'updatedColumns': 1,\n",
              " 'updatedCells': 5}"
            ]
          },
          "metadata": {},
          "execution_count": 22
        }
      ]
    },
    {
      "cell_type": "markdown",
      "source": [
        "Filtrando informações - captando a fonte de dados\n"
      ],
      "metadata": {
        "id": "zN01xeZsDh3w"
      }
    },
    {
      "cell_type": "code",
      "source": [
        "sheetexamplefilter = gc.open('Sales')\n",
        "aba = sheetexamplefilter.worksheet('Data')\n",
        "\n",
        "# Lê todos os dados da aba e os converte em um DataFrame\n",
        "dados_df = pd.DataFrame(aba.get_all_records())\n",
        "\n",
        "# Exibe o DataFrame original\n",
        "print(\"DataFrame Original:\")\n",
        "print(dados_df)\n",
        "\n",
        "\n"
      ],
      "metadata": {
        "colab": {
          "base_uri": "https://localhost:8080/"
        },
        "id": "y0wZybnHDfk_",
        "outputId": "d7945c52-aeb6-4145-8b6a-759aca71d1c9"
      },
      "execution_count": 50,
      "outputs": [
        {
          "output_type": "stream",
          "name": "stdout",
          "text": [
            "DataFrame Original:\n",
            "  SALES MANAGER        Status             PRODUCT TYPE        LEAD SOURCE \n",
            "0        Eloise     Delivered                Furniture    Client Referral \n",
            "1          Sion    In transit                 Plumbing            Website \n",
            "2         Ellis    Processing    Electrical appliances          Cold Call \n",
            "3         Chaya       testing         Office equipment    Purchased Leads \n",
            "4        Ismail       testing              Computation       Inbound Call \n",
            "5          Iqra       testing              Computation          Software  \n",
            "6       Matthew       testing              Computation          Software  \n",
            "7        Andrea       testing              Computation          Software  \n",
            "8        Victor       testing              Computation          Software  \n",
            "9         Krish       testing              Computation          Software  \n"
          ]
        }
      ]
    },
    {
      "cell_type": "markdown",
      "source": [
        "Filtrando informações - aplicando filtros\n"
      ],
      "metadata": {
        "id": "as_EGRPhHVpq"
      }
    },
    {
      "cell_type": "code",
      "source": [
        "# --- Implementação da Função de Filtragem ---\n",
        "# 1. Filtra o DataFrame para encontrar as linhas com o status 'Processing'\n",
        "dados_df['status'] = dados_df['status'].str.strip().str.capitalize()\n",
        "df_filtered = dados_df[dados_df['status'] == 'Testing']\n",
        "\n",
        "# 2. Exibe o DataFrame filtrado\n",
        "print(\"\\nDataFrame com Status 'Processing':\")\n",
        "print(df_filtered)\n",
        "\n"
      ],
      "metadata": {
        "colab": {
          "base_uri": "https://localhost:8080/"
        },
        "id": "s605bWOgXami",
        "outputId": "44be0447-14af-4380-8fcb-d5babc479598"
      },
      "execution_count": 85,
      "outputs": [
        {
          "output_type": "stream",
          "name": "stdout",
          "text": [
            "\n",
            "DataFrame com Status 'Processing':\n",
            "  sales manager   status        product type        lead source\n",
            "3        Chaya   Testing   Office equipment    Purchased Leads \n",
            "4       Ismail   Testing        Computation       Inbound Call \n",
            "5         Iqra   Testing        Computation          Software  \n",
            "6      Matthew   Testing        Computation          Software  \n",
            "7       Andrea   Testing        Computation          Software  \n",
            "8       Victor   Testing        Computation          Software  \n",
            "9        Krish   Testing        Computation          Software  \n"
          ]
        }
      ]
    }
  ]
}